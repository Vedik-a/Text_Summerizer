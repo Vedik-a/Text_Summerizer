{
 "cells": [
  {
   "cell_type": "code",
   "execution_count": null,
   "id": "d1ccd943",
   "metadata": {
    "vscode": {
     "languageId": "plaintext"
    }
   },
   "outputs": [],
   "source": [
    "import pandas as pd\n",
    "import nltk\n",
    "from transformers import pipeline\n",
    "\n",
    "# Import project modules (from src folder)\n",
    "from src.extractive_summarizer import extractive_summary\n",
    "from src.abstractive_summarizer import abstractive_summary\n",
    "from src.evaluation import evaluate_summary\n",
    "\n",
    "# Download tokenizer (needed for sentence splitting)\n",
    "nltk.download('punkt')\n",
    "\n",
    "print(\"✅ All libraries imported successfully!\")\n",
    "\n",
    "\n",
    "# Load the sample text data\n",
    "df = pd.read_csv('../data/sample_texts.csv')\n",
    "print(\"📂 Data loaded successfully!\\n\")\n",
    "print(df.head())\n",
    "\n",
    "\n",
    "\n",
    "# Select one sample text\n",
    "text = df.loc[0, 'text']\n",
    "\n",
    "print(\"📝 Original Text:\\n\", text)\n",
    "\n",
    "# ---------- Extractive Summarizer ----------\n",
    "extractive_result = extractive_summary(text, num_sentences=2)\n",
    "print(\"\\n✂️ Extractive Summary:\\n\", extractive_result)\n",
    "\n",
    "# ---------- Abstractive Summarizer ----------\n",
    "abstractive_result = abstractive_summary(text, min_length=20, max_length=60)\n",
    "print(\"\\n🤖 Abstractive Summary:\\n\", abstractive_result)\n",
    "\n",
    "\n",
    "\n",
    "scores = evaluate_summary(text, abstractive_result)\n",
    "print(\"\\n📈 Evaluation Scores (ROUGE):\\n\", scores)\n",
    "\n",
    "\n",
    "\n",
    "results = []\n",
    "\n",
    "for i, row in df.iterrows():\n",
    "    extractive = extractive_summary(row['text'], num_sentences=2)\n",
    "    abstractive = abstractive_summary(row['text'], min_length=20, max_length=60)\n",
    "    results.append({\n",
    "        'id': row['id'],\n",
    "        'original_text': row['text'],\n",
    "        'extractive_summary': extractive,\n",
    "        'abstractive_summary': abstractive\n",
    "    })\n",
    "\n",
    "summary_df = pd.DataFrame(results)\n",
    "print(\"\\n✅ Summaries generated for all texts!\\n\")\n",
    "print(summary_df.head())\n",
    "\n",
    "\n",
    "summary_df.to_csv('../data/generated_summaries.csv', index=False)\n",
    "print(\"\\n💾 Summaries saved successfully to 'data/generated_summaries.csv'!\")\n",
    "\n",
    "print(\"\\n🎉 All tasks completed successfully!\")\n"
   ]
  }
 ],
 "metadata": {
  "language_info": {
   "name": "python"
  }
 },
 "nbformat": 4,
 "nbformat_minor": 5
}
